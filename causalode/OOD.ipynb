{
 "cells": [
  {
   "cell_type": "code",
   "execution_count": 1,
   "id": "reflected-monthly",
   "metadata": {},
   "outputs": [],
   "source": [
    "import sys\n",
    "sys.path.insert(0,\"../\")"
   ]
  },
  {
   "cell_type": "code",
   "execution_count": 17,
   "id": "consistent-oasis",
   "metadata": {
    "scrolled": true
   },
   "outputs": [
    {
     "name": "stdout",
     "output_type": "stream",
     "text": [
      "6x55u2vb\n",
      "Loaded model and data from ./wandb/run-20210824_125705-6x55u2vb/files/causalode/6x55u2vb/checkpoints/last.ckpt\n",
      "b1jfzbjc\n",
      "Loaded model and data from ./wandb/run-20210824_121148-b1jfzbjc/files/causalode/b1jfzbjc/checkpoints/last.ckpt\n",
      "76reuo76\n",
      "Loaded model and data from ./wandb/run-20210824_121202-76reuo76/files/causalode/76reuo76/checkpoints/epoch=19-step=139.ckpt\n",
      "3ayimeon\n",
      "Warning\n",
      "Warning\n",
      "Warning\n",
      "Warning\n",
      "Warning\n",
      "Warning\n",
      "Warning\n",
      "Warning\n",
      "Warning\n",
      "Loaded model and data from ./wandb/run-20210825_175003-3ayimeon/files/causalode/3ayimeon/checkpoints/last.ckpt\n",
      "l7tdran6\n",
      "Warning\n",
      "Warning\n",
      "Warning\n",
      "Loaded model and data from ./wandb/run-20210825_174921-l7tdran6/files/causalode/l7tdran6/checkpoints/epoch=130-step=916.ckpt\n",
      "xdqcdgy6\n",
      "Warning\n",
      "Warning\n",
      "Warning\n",
      "Warning\n",
      "Warning\n",
      "Warning\n",
      "Loaded model and data from ./wandb/run-20210825_175005-xdqcdgy6/files/causalode/xdqcdgy6/checkpoints/last.ckpt\n"
     ]
    }
   ],
   "source": [
    "import argparse\n",
    "\n",
    "import pytorch_lightning as pl\n",
    "from pytorch_lightning.loggers import WandbLogger, TensorBoardLogger, MLFlowLogger\n",
    "from pytorch_lightning.callbacks.model_checkpoint import ModelCheckpoint\n",
    "from pytorch_lightning.callbacks import LearningRateMonitor, Callback\n",
    "from pytorch_lightning.callbacks.early_stopping import EarlyStopping\n",
    "import os\n",
    "import torch\n",
    "\n",
    "import matplotlib.pyplot as plt\n",
    "\n",
    "import numpy as np\n",
    "\n",
    "import wandb\n",
    "api = wandb.Api()\n",
    "\n",
    "from causalode import models, data_utils, cv_data_utils, covid_data_utils\n",
    "from azureml.core.run import Run\n",
    "from causalode.utils import str2bool\n",
    "\n",
    "import scipy\n",
    "\n",
    "sweeps = [api.sweep(\"edebrouwer/causalode/mrgxzm14\"), api.sweep(\"edebrouwer/causalode/mqap3r2x\")] # CV Neural ODE\n",
    "dataset_cls_list= [ cv_data_utils.CVDataModule, covid_data_utils.CovidDataModule]\n",
    "names = [\"CV\",\"Covid\"]\n",
    "repeats = 10\n",
    "\n",
    "curve_cf_dict = {\"random\" : [], \"propensity\": [], \"uncertainty\": []}\n",
    "curve_f_dict = {\"random\" : [], \"propensity\": [], \"uncertainty\": []}\n",
    "curve_pehe_dict = {\"random\" : [], \"propensity\": [], \"uncertainty\": []}\n",
    "\n",
    "def update_dict(main_dict, new_dict):\n",
    "    for key in new_dict.keys():\n",
    "        main_dict[key].append(new_dict[key])\n",
    "        \n",
    "\n",
    "Y_og_dict = {}\n",
    "Y_ood_dict = {}\n",
    "for isweep, sweep in enumerate(sweeps):\n",
    "    run_names = [run.id for run in sweep.runs ]\n",
    "    dataset_cls = dataset_cls_list[isweep]\n",
    "\n",
    "    Y_og_list = []\n",
    "    Y_ood_list = []\n",
    "    for run_name in run_names:\n",
    "        print(run_name)\n",
    "        PATH = \"./wandb/\"\n",
    "        paths = [p for p in os.listdir(PATH) if run_name in p]\n",
    "        assert(len(paths)==1)\n",
    "        PATH += paths[0] + \"/files/causalode/\"+run_name+\"/checkpoints/\"\n",
    "        PATH+=os.listdir(PATH)[0]\n",
    "        model_cls = models.VariationalSDE\n",
    "        model = model_cls.load_from_checkpoint(PATH)\n",
    "\n",
    "        hparams = dict(model.hparams)\n",
    "\n",
    "        #dataset_cls = data_utils.PendulumDataModule\n",
    "        #dataset_cls = covid_data_utils.CovidDataModule\n",
    "\n",
    "        dataset = dataset_cls(**hparams)\n",
    "        dataset.prepare_data()\n",
    "        print(f\"Loaded model and data from {PATH}\")\n",
    "\n",
    "        model.eval()\n",
    "\n",
    "        with torch.no_grad():\n",
    "            for i,batch in enumerate(dataset.test_dataloader()):\n",
    "                X,Y, T, Y_cf, p, thetas_0 = batch\n",
    "                times = torch.arange(11).float()\n",
    "                #times = torch.arange(11).float()\n",
    "\n",
    "\n",
    "                Y_hat_list = []\n",
    "                for _ in range(repeats):\n",
    "                    Y_hat, reg, logqp = model(X,T,return_decoded_u=True, times=times)\n",
    "                    Y_hat_list.append(Y_hat[...,None])\n",
    "\n",
    "                Y_hat_samples = torch.cat(Y_hat_list,-1)\n",
    "                break\n",
    "\n",
    "\n",
    "            X_ood = torch.rand(X.shape)#*0.5+2\n",
    "            T_ood = T.clone()\n",
    "\n",
    "            Y_hat_list_ood = []\n",
    "            for _ in range(repeats):\n",
    "                Y_hat_ood, reg, logqp = model(X_ood,T_ood,return_decoded_u=True, times=times)\n",
    "                Y_hat_list_ood.append(Y_hat_ood[...,None])\n",
    "\n",
    "            Y_hat_samples_ood = torch.cat(Y_hat_list_ood,-1)\n",
    "\n",
    "        Y_og_list.append(Y_hat_samples)\n",
    "        Y_ood_list.append(Y_hat_samples_ood)\n",
    "    Y_og_dict[names[isweep]] = Y_og_list\n",
    "    Y_ood_dict[names[isweep]] = Y_ood_list"
   ]
  },
  {
   "cell_type": "code",
   "execution_count": 23,
   "id": "ed60dabd",
   "metadata": {},
   "outputs": [
    {
     "name": "stdout",
     "output_type": "stream",
     "text": [
      "tensor(0.0453)\n",
      "tensor(0.0576)\n",
      "tensor(0.0493)\n",
      "tensor(0.0685)\n",
      "tensor(0.0450)\n",
      "tensor(0.0468)\n",
      "tensor(0.0294)\n",
      "tensor(0.0392)\n",
      "tensor(0.0181)\n",
      "tensor(0.0237)\n",
      "tensor(0.0247)\n",
      "tensor(0.0354)\n"
     ]
    }
   ],
   "source": [
    "ood_dict = {}\n",
    "og_dict ={}\n",
    "for sim_type in names:\n",
    "    Y_og_list = Y_og_dict[sim_type]\n",
    "    Y_ood_list = Y_ood_dict[sim_type]\n",
    "    for i in range(len(Y_og_list)):\n",
    "\n",
    "    std_og = np.array([Y_og_list[i][0,:,:,:,:].std([-1,-2]).mean() for i in range(len(Y_og_list))])\n",
    "    std_ood = np.array([Y_ood_list[i][0,:,:,:,:].std([-1,-2]).mean() for i in range(len(Y_ood_list))])\n",
    "    \n",
    "    ood_dict[sim_type] = std_ood / std_og.mean()\n",
    "    og_dict[sim_type] = std_og / std_og.mean()"
   ]
  },
  {
   "cell_type": "code",
   "execution_count": 41,
   "id": "27df58d1",
   "metadata": {},
   "outputs": [
    {
     "data": {
      "text/plain": [
       "Text(0.5, 1.0, 'Comparison of uncertainty levels between in and out of distribution data')"
      ]
     },
     "execution_count": 41,
     "metadata": {},
     "output_type": "execute_result"
    },
    {
     "data": {
      "image/png": "[encoded data removed]",
      "text/plain": [
       "<Figure size 432x288 with 1 Axes>"
      ]
     },
     "metadata": {
      "needs_background": "light"
     },
     "output_type": "display_data"
    }
   ],
   "source": [
    "import matplotlib.pyplot as plt\n",
    "\n",
    "og_vec = std_og / std_og.mean()\n",
    "\n",
    "ood_vec = std_ood / std_og.mean()\n",
    "\n",
    "plt.bar([0,0.5,1.5,2],[og_dict[\"CV\"].mean(),ood_dict[\"CV\"].mean(),og_dict[\"Covid\"].mean(),ood_dict[\"Covid\"].mean()],yerr=[og_dict[\"CV\"].std(),ood_dict[\"CV\"].std(),og_dict[\"Covid\"].std(),ood_dict[\"Covid\"].std()],width = 0.4, color = [\"green\",\"blue\"])\n",
    "plt.xticks([0.25,1.75],[\"Cardio-Vascular\",\"Dexamethasone\"])\n",
    "plt.legend([\"True\",\"False\"])\n",
    "\n",
    "colors = {\"In-distribution\":\"green\", \"Out-of-distribution\":\"blue\"}\n",
    "labels = list(colors.keys())\n",
    "handles = [plt.Rectangle((0,0),1,1, color=colors[label]) for label in labels]\n",
    "plt.legend(handles, labels,loc=\"upper left\")\n",
    "plt.ylabel(\"Normalized Uncertainty\")\n",
    "plt.title(\"Comparison of uncertainty levels between in and out of distribution data\")"
   ]
  }
 ],
 "metadata": {
  "kernelspec": {
   "display_name": "Python 3",
   "language": "python",
   "name": "python3"
  },
  "language_info": {
   "codemirror_mode": {
    "name": "ipython",
    "version": 3
   },
   "file_extension": ".py",
   "mimetype": "text/x-python",
   "name": "python",
   "nbconvert_exporter": "python",
   "pygments_lexer": "ipython3",
   "version": "3.8.8"
  }
 },
 "nbformat": 4,
 "nbformat_minor": 5
}
